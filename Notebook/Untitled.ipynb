{
 "cells": [
  {
   "cell_type": "code",
   "execution_count": 18,
   "metadata": {
    "collapsed": true
   },
   "outputs": [],
   "source": [
    "import numpy as np\n",
    "import csv\n",
    "import networkx as nx"
   ]
  },
  {
   "cell_type": "code",
   "execution_count": 132,
   "metadata": {
    "collapsed": false
   },
   "outputs": [],
   "source": [
    "G = np.loadtxt(open('/home/elisa/Documents/Projetos/TCC/data/charlie/graph_complete.csv'), delimiter=\",\")"
   ]
  },
  {
   "cell_type": "code",
   "execution_count": 133,
   "metadata": {
    "collapsed": false
   },
   "outputs": [],
   "source": [
    "Infects = np.loadtxt(open('/home/elisa/Documents/Projetos/TCC/data/charlie/Infects.csv'), delimiter=\",\")"
   ]
  },
  {
   "cell_type": "code",
   "execution_count": 59,
   "metadata": {
    "collapsed": false
   },
   "outputs": [],
   "source": [
    "##nodes -> lista de nos na mesma ordem que indice da matriz\n",
    "\n",
    "def graph_simu(Infects, G):\n",
    "    s = Infects.shape[1]\n",
    "    graph_sim = np.zeros((s,s))\n",
    "    \n",
    "    #I_previous é o vetor de indices dos nos infectados no tempo 0\n",
    "    I_previous = np.where(Infects[0]==1)[0]\n",
    "    \n",
    "    #done é a lista com os indices dos nos que ja descobrimos o pai\n",
    "    done = [I_previous[0]]\n",
    "    \n",
    "    for status in Infects[1:]:\n",
    "        I = list(np.where(status==1)[0])\n",
    "        I_current = I.copy()\n",
    "        for i in done:\n",
    "            if i in I_current:\n",
    "                I_current.remove(i)\n",
    "                    \n",
    "        if len(I_current) == 0:\n",
    "            continue\n",
    "            \n",
    "        #se temos mais de uma possibilidade de pai\n",
    "        if len(I_previous) == 1:\n",
    "            for node in I_current:\n",
    "                graph_sim[node][I_previous[0]] = 1\n",
    "                done.append(node)\n",
    "        \n",
    "        else:\n",
    "            #calcular pai para cada no que foi infectado\n",
    "            for node in I_current:\n",
    "                #pegando a probabilidade de cada no ja infectado ter infectado o no node \n",
    "                influences = G[node]\n",
    "                probs = np.zeros(s)\n",
    "                \n",
    "                for i in I_previous:\n",
    "                    probs[i] = influences[i]\n",
    "                if sum(probs) != 0 :\n",
    "                    probs = probs/sum(probs)\n",
    "                pos = np.random.choice(range(s),p=probs,size=1)\n",
    "                graph_sim[node][pos] = 1\n",
    "                done.append(node)\n",
    "                if pos == 0:\n",
    "                    print(probs)\n",
    "        I_previous = I\n",
    "        \n",
    "    return graph_sim"
   ]
  },
  {
   "cell_type": "code",
   "execution_count": 138,
   "metadata": {
    "collapsed": false
   },
   "outputs": [],
   "source": [
    "##nodes -> lista de nos na mesma ordem que indice da matriz\n",
    "\n",
    "def graph_simu_nx(Infects, G):\n",
    "    s = Infects.shape[1]\n",
    "    graph_sim = nx.DiGraph()\n",
    "    \n",
    "    #I_previous é o vetor de indices dos nos infectados no tempo 0\n",
    "    I_previous = np.where(Infects[0]==1)[0]\n",
    "    \n",
    "    #done é a lista com os indices dos nos que ja descobrimos o pai\n",
    "    done = [I_previous[0]]\n",
    "    \n",
    "    for status in Infects[1:]:\n",
    "        I = list(np.where(status==1)[0])\n",
    "        I_current = I.copy()\n",
    "        for i in done:\n",
    "            if i in I_current:\n",
    "                I_current.remove(i)\n",
    "                    \n",
    "        if len(I_current) == 0:\n",
    "            continue\n",
    "            \n",
    "        #se temos mais de uma possibilidade de pai\n",
    "        if len(I_previous) == 1:\n",
    "            for node in I_current:\n",
    "                graph_sim.add_edge(I_previous[0],node)\n",
    "                done.append(node)\n",
    "        \n",
    "        else:\n",
    "            #calcular pai para cada no que foi infectado\n",
    "            for node in I_current:\n",
    "                #pegando a probabilidade de cada no ja infectado ter infectado o no node \n",
    "                influences = G[node]\n",
    "                probs = np.zeros(s)\n",
    "                \n",
    "                for i in I_previous:\n",
    "                    probs[i] = influences[i]\n",
    "                if sum(probs) != 0 :\n",
    "                    probs = probs/sum(probs)\n",
    "                pos = np.random.choice(range(s),p=probs,size=1)\n",
    "                graph_sim.add_edge(pos[0],node)\n",
    "                done.append(node)\n",
    "                if pos == 0:\n",
    "                    print(probs)\n",
    "        I_previous = I\n",
    "        \n",
    "    return graph_sim"
   ]
  },
  {
   "cell_type": "code",
   "execution_count": 139,
   "metadata": {
    "collapsed": false
   },
   "outputs": [],
   "source": [
    "A = graph_simu_nx(Infects,G)\n",
    "nx.write_gpickle(A, '/home/elisa/Documents/Projetos/TCC/data/charlie/graph_simulated_nx.gpickle')"
   ]
  },
  {
   "cell_type": "code",
   "execution_count": 119,
   "metadata": {
    "collapsed": false
   },
   "outputs": [],
   "source": [
    "graph = nx.read_gpickle('/home/elisa/Documents/Projetos/TCC/data/charlie/original_graph.gpickle')"
   ]
  },
  {
   "cell_type": "code",
   "execution_count": 140,
   "metadata": {
    "collapsed": false
   },
   "outputs": [
    {
     "data": {
      "text/plain": [
       "1996"
      ]
     },
     "execution_count": 140,
     "metadata": {},
     "output_type": "execute_result"
    }
   ],
   "source": [
    "len(A)"
   ]
  },
  {
   "cell_type": "code",
   "execution_count": 99,
   "metadata": {
    "collapsed": false
   },
   "outputs": [],
   "source": [
    "c = np.sum(B,axis=0)"
   ]
  },
  {
   "cell_type": "code",
   "execution_count": 95,
   "metadata": {
    "collapsed": false
   },
   "outputs": [
    {
     "data": {
      "text/plain": [
       "[]"
      ]
     },
     "execution_count": 95,
     "metadata": {},
     "output_type": "execute_result"
    }
   ],
   "source": [
    "N = list(np.where(S==1)[0])\n",
    "N"
   ]
  },
  {
   "cell_type": "code",
   "execution_count": 62,
   "metadata": {
    "collapsed": false
   },
   "outputs": [
    {
     "data": {
      "text/plain": [
       "(242.0, 242.0)"
      ]
     },
     "execution_count": 62,
     "metadata": {},
     "output_type": "execute_result"
    }
   ],
   "source": [
    "G[259][1935] , G[1361][1935]\n"
   ]
  },
  {
   "cell_type": "code",
   "execution_count": 57,
   "metadata": {
    "collapsed": false
   },
   "outputs": [
    {
     "name": "stdout",
     "output_type": "stream",
     "text": [
      "28 1935 20.0\n",
      "886 1935 242.0\n",
      "1935 0 1.0\n",
      "2027 1935 242.0\n"
     ]
    }
   ],
   "source": [
    "for i in N[1:]:\n",
    "    D = A[i]\n",
    "    D1 = list(np.where(D==1)[0])\n",
    "    D1 = D1[0]\n",
    "    print(i, D1, G[i][D1])"
   ]
  },
  {
   "cell_type": "code",
   "execution_count": 77,
   "metadata": {
    "collapsed": false
   },
   "outputs": [],
   "source": [
    "for i in B:\n",
    "    if len(i[i>0]) > 1:\n",
    "        print('merda')"
   ]
  },
  {
   "cell_type": "code",
   "execution_count": 104,
   "metadata": {
    "collapsed": false
   },
   "outputs": [
    {
     "data": {
      "text/plain": [
       "(1996, 2033)"
      ]
     },
     "execution_count": 104,
     "metadata": {},
     "output_type": "execute_result"
    }
   ],
   "source": [
    "len(a),len(c)"
   ]
  },
  {
   "cell_type": "code",
   "execution_count": 147,
   "metadata": {
    "collapsed": false
   },
   "outputs": [
    {
     "name": "stdout",
     "output_type": "stream",
     "text": [
      "Populating the interactive namespace from numpy and matplotlib\n"
     ]
    },
    {
     "name": "stderr",
     "output_type": "stream",
     "text": [
      "WARNING: pylab import has clobbered these variables: ['f']\n",
      "`%matplotlib` prevents importing * from pylab and numpy\n"
     ]
    }
   ],
   "source": [
    "import matplotlib.pyplot as plt\n",
    "%pylab inline"
   ]
  },
  {
   "cell_type": "code",
   "execution_count": 122,
   "metadata": {
    "collapsed": false
   },
   "outputs": [],
   "source": [
    "from scipy.stats import gaussian_kde"
   ]
  },
  {
   "cell_type": "code",
   "execution_count": 160,
   "metadata": {
    "collapsed": true
   },
   "outputs": [],
   "source": [
    "g_a = gaussian_kde(a,)\n",
    "g_b = gaussian_kde(b)"
   ]
  },
  {
   "cell_type": "markdown",
   "metadata": {
    "collapsed": false
   },
   "source": []
  },
  {
   "cell_type": "code",
   "execution_count": 161,
   "metadata": {
    "collapsed": false
   },
   "outputs": [
    {
     "data": {
      "image/png": "[encoded data removed]",
      "text/plain": [
       "<matplotlib.figure.Figure at 0x7fe8bcbc4588>"
      ]
     },
     "metadata": {},
     "output_type": "display_data"
    }
   ],
   "source": [
    "plt.hist(a, bins=20, color='r', alpha=0.3, normed=True)\n",
    "plt.hist(b, bins=25, color='b', alpha=0.3, normed=True)\n",
    "plt.plot(range(0,20), g_a.evaluate(range(20)), color='r')\n",
    "plt.plot(range(0,20), g_b.evaluate(range(20)), color='b')\n",
    "\n",
    "plt.xlim(0,20)\n",
    "plt.show()"
   ]
  },
  {
   "cell_type": "code",
   "execution_count": 142,
   "metadata": {
    "collapsed": false
   },
   "outputs": [],
   "source": [
    "a = [i[1] for i in A.out_degree_iter()]"
   ]
  },
  {
   "cell_type": "code",
   "execution_count": 155,
   "metadata": {
    "collapsed": false
   },
   "outputs": [],
   "source": [
    "graph = nx.read_gpickle('/home/elisa/Documents/Projetos/TCC/data/teste/original_graph.gpickle')"
   ]
  },
  {
   "cell_type": "code",
   "execution_count": 156,
   "metadata": {
    "collapsed": true
   },
   "outputs": [],
   "source": [
    "b = [i[1] for i in graph.out_degree_iter()]"
   ]
  },
  {
   "cell_type": "code",
   "execution_count": 175,
   "metadata": {
    "collapsed": false
   },
   "outputs": [
    {
     "data": {
      "text/plain": [
       "<networkx.classes.digraph.DiGraph at 0x7f2b51a04860>"
      ]
     },
     "execution_count": 175,
     "metadata": {},
     "output_type": "execute_result"
    }
   ],
   "source": [
    "graph"
   ]
  },
  {
   "cell_type": "code",
   "execution_count": null,
   "metadata": {
    "collapsed": true
   },
   "outputs": [],
   "source": []
  },
  {
   "cell_type": "code",
   "execution_count": 108,
   "metadata": {
    "collapsed": false
   },
   "outputs": [
    {
     "data": {
      "text/plain": [
       "array([ 1.,  0.,  1., ...,  0.,  0.,  0.])"
      ]
     },
     "execution_count": 108,
     "metadata": {},
     "output_type": "execute_result"
    }
   ],
   "source": [
    "c"
   ]
  },
  {
   "cell_type": "code",
   "execution_count": 63,
   "metadata": {
    "collapsed": false
   },
   "outputs": [],
   "source": [
    "from scipy.stats import entropy"
   ]
  },
  {
   "cell_type": "code",
   "execution_count": 162,
   "metadata": {
    "collapsed": false
   },
   "outputs": [
    {
     "data": {
      "text/plain": [
       "0.035728175432927271"
      ]
     },
     "execution_count": 162,
     "metadata": {},
     "output_type": "execute_result"
    }
   ],
   "source": [
    "entropy(g_a.evaluate(range(20)),g_b.evaluate(range(20)))"
   ]
  },
  {
   "cell_type": "code",
   "execution_count": 51,
   "metadata": {
    "collapsed": false
   },
   "outputs": [
    {
     "name": "stdout",
     "output_type": "stream",
     "text": [
      "Populating the interactive namespace from numpy and matplotlib\n"
     ]
    },
    {
     "name": "stderr",
     "output_type": "stream",
     "text": [
      "WARNING: pylab import has clobbered these variables: ['f']\n",
      "`%matplotlib` prevents importing * from pylab and numpy\n"
     ]
    }
   ],
   "source": [
    "import matplotlib.pyplot as plt\n",
    "%pylab inline\n"
   ]
  },
  {
   "cell_type": "code",
   "execution_count": null,
   "metadata": {
    "collapsed": true
   },
   "outputs": [],
   "source": []
  }
 ],
 "metadata": {
  "kernelspec": {
   "display_name": "Python 3",
   "language": "python",
   "name": "python3"
  },
  "language_info": {
   "codemirror_mode": {
    "name": "ipython",
    "version": 3
   },
   "file_extension": ".py",
   "mimetype": "text/x-python",
   "name": "python",
   "nbconvert_exporter": "python",
   "pygments_lexer": "ipython3",
   "version": "3.4.0"
  }
 },
 "nbformat": 4,
 "nbformat_minor": 0
}
