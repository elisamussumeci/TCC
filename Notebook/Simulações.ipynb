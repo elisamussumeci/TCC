{
 "cells": [
  {
   "cell_type": "code",
   "execution_count": 1,
   "metadata": {
    "collapsed": false
   },
   "outputs": [
    {
     "name": "stdout",
     "output_type": "stream",
     "text": [
      "Populating the interactive namespace from numpy and matplotlib\n"
     ]
    },
    {
     "name": "stderr",
     "output_type": "stream",
     "text": [
      "WARNING: pylab import has clobbered these variables: ['figure', 'show']\n",
      "`%matplotlib` prevents importing * from pylab and numpy\n"
     ]
    }
   ],
   "source": [
    "import numpy as np\n",
    "import networkx as nx\n",
    "from bokeh.plotting import figure, output_notebook, show, vplot\n",
    "import matplotlib.pyplot as plt\n",
    "\n",
    "import pandas as pd\n",
    "%pylab inline"
   ]
  },
  {
   "cell_type": "code",
   "execution_count": 3,
   "metadata": {
    "collapsed": false
   },
   "outputs": [],
   "source": [
    "graph = nx.read_gpickle('/home/elisa/Documents/Projetos/TCC/data/charlie/original_graph.gpickle')"
   ]
  },
  {
   "cell_type": "code",
   "execution_count": 660,
   "metadata": {
    "collapsed": false
   },
   "outputs": [],
   "source": [
    "# def create_nodes_list(graph, raiz, nodes, size):\n",
    "#     if len(nodes) >= size:\n",
    "#         return nodes\n",
    "#     else:\n",
    "#         nodes.append(raiz)\n",
    "#         for i in graph.edges(raiz):\n",
    "#             node = i[1]\n",
    "#             if node not in nodes:\n",
    "#                 if graph.edges(node) == []:\n",
    "#                     nodes.append(node)\n",
    "#                 else:\n",
    "#                     create_nodes_list(graph,node,nodes,size)\n",
    "#         return nodes\n",
    "\n",
    "# def create_subgraph(graph,raiz,size):\n",
    "#     nodes = create_nodes_list(graph,raiz,nodes=[],size=size)\n",
    "#     subgraph = graph.subgraph(nodes)\n",
    "#     return subgraph\n",
    "\n",
    "# H = create_subgraph(graph, 0)"
   ]
  },
  {
   "cell_type": "markdown",
   "metadata": {},
   "source": [
    "## Calculando Probabilidade de Conexão"
   ]
  },
  {
   "cell_type": "code",
   "execution_count": 661,
   "metadata": {
    "collapsed": false
   },
   "outputs": [],
   "source": [
    "## cria matriz.\n",
    "## Coluna > influenciadores, Index > Influenciados\n",
    "## Ex: df['www.ptjornal.com']['www.meioemensagem.com.br'] = 2 -> coluna do ptjornal e linha do meioemensagem\n",
    "## df['www.ptjornal.com'] retorna a coluna, ou seja, retorna todos os veiculos que ptjornal influenciou\n",
    "\n",
    "##                                  Influenciadores\n",
    "##                           domain[0] domain[1] domain[2]\n",
    "##               domain[0]      2          0         2\n",
    "## Influenciados domain[1]      3          0         0        ->>>>      df[domain[0]][domain[1]] = 3\n",
    "##               domain[2]      5          2         1     "
   ]
  },
  {
   "cell_type": "code",
   "execution_count": 4,
   "metadata": {
    "collapsed": false
   },
   "outputs": [],
   "source": [
    "def create_matrix_domain(graph):\n",
    "    ## cria lista de domínios\n",
    "    domain_list = []\n",
    "    for pos in graph.nodes():\n",
    "        node = graph.node[pos]\n",
    "        d = node['domain']\n",
    "        if d not in domain_list:\n",
    "            domain_list.append(d)\n",
    "    \n",
    "    df = pd.DataFrame(0, index = domain_list, columns = domain_list)\n",
    "    \n",
    "    for pos in graph.nodes():\n",
    "        node = graph.node[pos]\n",
    "        d = node['domain']\n",
    "        successors = graph.successors(pos)\n",
    "        for suc in successors:\n",
    "            df[d][graph.node[suc]['domain']] += 1 \n",
    "        \n",
    "    return [domain_list, df] \n",
    "    "
   ]
  },
  {
   "cell_type": "code",
   "execution_count": 5,
   "metadata": {
    "collapsed": false
   },
   "outputs": [],
   "source": [
    "domain_list, domain_matrix = create_matrix_domain(graph)"
   ]
  },
  {
   "cell_type": "code",
   "execution_count": null,
   "metadata": {
    "collapsed": false
   },
   "outputs": [],
   "source": []
  },
  {
   "cell_type": "code",
   "execution_count": 6,
   "metadata": {
    "collapsed": false
   },
   "outputs": [
    {
     "data": {
      "text/html": [
       "<div style=\"max-height:1000px;max-width:1500px;overflow:auto;\">\n",
       "<table border=\"1\" class=\"dataframe\">\n",
       "  <thead>\n",
       "    <tr style=\"text-align: right;\">\n",
       "      <th></th>\n",
       "      <th>www.ptjornal.com</th>\n",
       "      <th>www.meioemensagem.com.br</th>\n",
       "      <th>br.noticias.yahoo.com</th>\n",
       "      <th>estadao.feedsportal.com</th>\n",
       "      <th>www.dgabc.com.br</th>\n",
       "      <th>www.jb.com.br</th>\n",
       "      <th>opiniaoenoticiascombr.feedsportal.com</th>\n",
       "      <th>feeds.jn.pt</th>\n",
       "      <th>www.gazetadopovo.com.br</th>\n",
       "      <th>bahianoticias.feedsportal.com</th>\n",
       "      <th>...</th>\n",
       "      <th>saraiva13.blogspot.com</th>\n",
       "      <th>rss.computerworld.com.br</th>\n",
       "      <th>rss.idgnow.com.br</th>\n",
       "      <th>mobilexpert.com.br</th>\n",
       "      <th>www.nossasenhoradobrasil.com.br</th>\n",
       "      <th>www.oribatejo.pt</th>\n",
       "      <th>agendacult.wordpress.com</th>\n",
       "      <th>www.brasilescola.com</th>\n",
       "      <th>www.portalmetropole.com</th>\n",
       "      <th>blogjp.jovempan.uol.com.br</th>\n",
       "    </tr>\n",
       "  </thead>\n",
       "  <tbody>\n",
       "    <tr>\n",
       "      <th>www.ptjornal.com</th>\n",
       "      <td> 5</td>\n",
       "      <td> 0</td>\n",
       "      <td>   1</td>\n",
       "      <td>  0</td>\n",
       "      <td>  0</td>\n",
       "      <td>  1</td>\n",
       "      <td> 0</td>\n",
       "      <td> 0</td>\n",
       "      <td>  0</td>\n",
       "      <td> 0</td>\n",
       "      <td>...</td>\n",
       "      <td> 0</td>\n",
       "      <td> 0</td>\n",
       "      <td> 0</td>\n",
       "      <td> 0</td>\n",
       "      <td> 0</td>\n",
       "      <td> 0</td>\n",
       "      <td> 0</td>\n",
       "      <td> 0</td>\n",
       "      <td> 0</td>\n",
       "      <td> 0</td>\n",
       "    </tr>\n",
       "    <tr>\n",
       "      <th>www.meioemensagem.com.br</th>\n",
       "      <td> 1</td>\n",
       "      <td> 0</td>\n",
       "      <td>   1</td>\n",
       "      <td>  0</td>\n",
       "      <td>  0</td>\n",
       "      <td>  0</td>\n",
       "      <td> 0</td>\n",
       "      <td> 0</td>\n",
       "      <td>  0</td>\n",
       "      <td> 0</td>\n",
       "      <td>...</td>\n",
       "      <td> 0</td>\n",
       "      <td> 0</td>\n",
       "      <td> 0</td>\n",
       "      <td> 0</td>\n",
       "      <td> 0</td>\n",
       "      <td> 0</td>\n",
       "      <td> 0</td>\n",
       "      <td> 0</td>\n",
       "      <td> 0</td>\n",
       "      <td> 0</td>\n",
       "    </tr>\n",
       "    <tr>\n",
       "      <th>br.noticias.yahoo.com</th>\n",
       "      <td> 1</td>\n",
       "      <td> 1</td>\n",
       "      <td> 242</td>\n",
       "      <td>  7</td>\n",
       "      <td> 21</td>\n",
       "      <td> 15</td>\n",
       "      <td> 8</td>\n",
       "      <td> 6</td>\n",
       "      <td> 20</td>\n",
       "      <td> 0</td>\n",
       "      <td>...</td>\n",
       "      <td> 0</td>\n",
       "      <td> 0</td>\n",
       "      <td> 0</td>\n",
       "      <td> 0</td>\n",
       "      <td> 0</td>\n",
       "      <td> 0</td>\n",
       "      <td> 0</td>\n",
       "      <td> 0</td>\n",
       "      <td> 0</td>\n",
       "      <td> 0</td>\n",
       "    </tr>\n",
       "    <tr>\n",
       "      <th>estadao.feedsportal.com</th>\n",
       "      <td> 0</td>\n",
       "      <td> 2</td>\n",
       "      <td>  11</td>\n",
       "      <td> 12</td>\n",
       "      <td>  2</td>\n",
       "      <td>  1</td>\n",
       "      <td> 1</td>\n",
       "      <td> 0</td>\n",
       "      <td>  2</td>\n",
       "      <td> 0</td>\n",
       "      <td>...</td>\n",
       "      <td> 0</td>\n",
       "      <td> 0</td>\n",
       "      <td> 0</td>\n",
       "      <td> 0</td>\n",
       "      <td> 0</td>\n",
       "      <td> 0</td>\n",
       "      <td> 0</td>\n",
       "      <td> 0</td>\n",
       "      <td> 0</td>\n",
       "      <td> 0</td>\n",
       "    </tr>\n",
       "    <tr>\n",
       "      <th>www.dgabc.com.br</th>\n",
       "      <td> 0</td>\n",
       "      <td> 0</td>\n",
       "      <td>  20</td>\n",
       "      <td>  1</td>\n",
       "      <td> 10</td>\n",
       "      <td>  1</td>\n",
       "      <td> 0</td>\n",
       "      <td> 0</td>\n",
       "      <td>  0</td>\n",
       "      <td> 0</td>\n",
       "      <td>...</td>\n",
       "      <td> 0</td>\n",
       "      <td> 0</td>\n",
       "      <td> 0</td>\n",
       "      <td> 0</td>\n",
       "      <td> 0</td>\n",
       "      <td> 0</td>\n",
       "      <td> 0</td>\n",
       "      <td> 0</td>\n",
       "      <td> 0</td>\n",
       "      <td> 0</td>\n",
       "    </tr>\n",
       "  </tbody>\n",
       "</table>\n",
       "<p>5 rows × 97 columns</p>\n",
       "</div>"
      ],
      "text/plain": [
       "                          www.ptjornal.com  www.meioemensagem.com.br  \\\n",
       "www.ptjornal.com                         5                         0   \n",
       "www.meioemensagem.com.br                 1                         0   \n",
       "br.noticias.yahoo.com                    1                         1   \n",
       "estadao.feedsportal.com                  0                         2   \n",
       "www.dgabc.com.br                         0                         0   \n",
       "\n",
       "                          br.noticias.yahoo.com  estadao.feedsportal.com  \\\n",
       "www.ptjornal.com                              1                        0   \n",
       "www.meioemensagem.com.br                      1                        0   \n",
       "br.noticias.yahoo.com                       242                        7   \n",
       "estadao.feedsportal.com                      11                       12   \n",
       "www.dgabc.com.br                             20                        1   \n",
       "\n",
       "                          www.dgabc.com.br  www.jb.com.br  \\\n",
       "www.ptjornal.com                         0              1   \n",
       "www.meioemensagem.com.br                 0              0   \n",
       "br.noticias.yahoo.com                   21             15   \n",
       "estadao.feedsportal.com                  2              1   \n",
       "www.dgabc.com.br                        10              1   \n",
       "\n",
       "                          opiniaoenoticiascombr.feedsportal.com  feeds.jn.pt  \\\n",
       "www.ptjornal.com                                              0            0   \n",
       "www.meioemensagem.com.br                                      0            0   \n",
       "br.noticias.yahoo.com                                         8            6   \n",
       "estadao.feedsportal.com                                       1            0   \n",
       "www.dgabc.com.br                                              0            0   \n",
       "\n",
       "                          www.gazetadopovo.com.br  \\\n",
       "www.ptjornal.com                                0   \n",
       "www.meioemensagem.com.br                        0   \n",
       "br.noticias.yahoo.com                          20   \n",
       "estadao.feedsportal.com                         2   \n",
       "www.dgabc.com.br                                0   \n",
       "\n",
       "                          bahianoticias.feedsportal.com  \\\n",
       "www.ptjornal.com                                      0   \n",
       "www.meioemensagem.com.br                              0   \n",
       "br.noticias.yahoo.com                                 0   \n",
       "estadao.feedsportal.com                               0   \n",
       "www.dgabc.com.br                                      0   \n",
       "\n",
       "                                      ...                \\\n",
       "www.ptjornal.com                      ...                 \n",
       "www.meioemensagem.com.br              ...                 \n",
       "br.noticias.yahoo.com                 ...                 \n",
       "estadao.feedsportal.com               ...                 \n",
       "www.dgabc.com.br                      ...                 \n",
       "\n",
       "                          saraiva13.blogspot.com  rss.computerworld.com.br  \\\n",
       "www.ptjornal.com                               0                         0   \n",
       "www.meioemensagem.com.br                       0                         0   \n",
       "br.noticias.yahoo.com                          0                         0   \n",
       "estadao.feedsportal.com                        0                         0   \n",
       "www.dgabc.com.br                               0                         0   \n",
       "\n",
       "                          rss.idgnow.com.br  mobilexpert.com.br  \\\n",
       "www.ptjornal.com                          0                   0   \n",
       "www.meioemensagem.com.br                  0                   0   \n",
       "br.noticias.yahoo.com                     0                   0   \n",
       "estadao.feedsportal.com                   0                   0   \n",
       "www.dgabc.com.br                          0                   0   \n",
       "\n",
       "                          www.nossasenhoradobrasil.com.br  www.oribatejo.pt  \\\n",
       "www.ptjornal.com                                        0                 0   \n",
       "www.meioemensagem.com.br                                0                 0   \n",
       "br.noticias.yahoo.com                                   0                 0   \n",
       "estadao.feedsportal.com                                 0                 0   \n",
       "www.dgabc.com.br                                        0                 0   \n",
       "\n",
       "                          agendacult.wordpress.com  www.brasilescola.com  \\\n",
       "www.ptjornal.com                                 0                     0   \n",
       "www.meioemensagem.com.br                         0                     0   \n",
       "br.noticias.yahoo.com                            0                     0   \n",
       "estadao.feedsportal.com                          0                     0   \n",
       "www.dgabc.com.br                                 0                     0   \n",
       "\n",
       "                          www.portalmetropole.com  blogjp.jovempan.uol.com.br  \n",
       "www.ptjornal.com                                0                           0  \n",
       "www.meioemensagem.com.br                        0                           0  \n",
       "br.noticias.yahoo.com                           0                           0  \n",
       "estadao.feedsportal.com                         0                           0  \n",
       "www.dgabc.com.br                                0                           0  \n",
       "\n",
       "[5 rows x 97 columns]"
      ]
     },
     "execution_count": 6,
     "metadata": {},
     "output_type": "execute_result"
    }
   ],
   "source": [
    "domain_matrix.head()"
   ]
  },
  {
   "cell_type": "code",
   "execution_count": 609,
   "metadata": {
    "collapsed": false
   },
   "outputs": [],
   "source": [
    "# domains_probs = domain_matrix.transpose()/domain_matrix.sum(1)\n",
    "# domains_probs = domains_probs.transpose()"
   ]
  },
  {
   "cell_type": "code",
   "execution_count": 7,
   "metadata": {
    "collapsed": true
   },
   "outputs": [],
   "source": [
    "domain_matrix.to_csv('/home/elisa/Documents/Projetos/TCC/data/charlie/matrix_domains.csv')"
   ]
  },
  {
   "cell_type": "markdown",
   "metadata": {},
   "source": [
    "##Analises"
   ]
  },
  {
   "cell_type": "code",
   "execution_count": 620,
   "metadata": {
    "collapsed": true
   },
   "outputs": [],
   "source": [
    "Q = domains_probs.as_matrix()"
   ]
  },
  {
   "cell_type": "code",
   "execution_count": 631,
   "metadata": {
    "collapsed": false
   },
   "outputs": [],
   "source": [
    "np.fill_diagonal(Q,0)"
   ]
  },
  {
   "cell_type": "code",
   "execution_count": 636,
   "metadata": {
    "collapsed": false
   },
   "outputs": [],
   "source": [
    "for pos,row in enumerate(Q):\n",
    "    if np.any(np.isinf(row)):\n",
    "        Q[pos] = 0\n",
    "        "
   ]
  },
  {
   "cell_type": "code",
   "execution_count": 640,
   "metadata": {
    "collapsed": false
   },
   "outputs": [
    {
     "data": {
      "image/png": "[encoded data removed]",
      "text/plain": [
       "<matplotlib.figure.Figure at 0x7fe6bddc3dd8>"
      ]
     },
     "metadata": {},
     "output_type": "display_data"
    }
   ],
   "source": [
    "for i in range(0,93):\n",
    "    plt.hist(Q[i], alpha = 0.2)"
   ]
  },
  {
   "cell_type": "code",
   "execution_count": 639,
   "metadata": {
    "collapsed": false
   },
   "outputs": [
    {
     "data": {
      "image/png": "[encoded data removed]",
      "text/plain": [
       "<matplotlib.figure.Figure at 0x7fe6bb3ed1d0>"
      ]
     },
     "metadata": {},
     "output_type": "display_data"
    }
   ],
   "source": [
    "for i in range(0,93):\n",
    "    plt.hist(Q[:,i], alpha = 0.2)"
   ]
  },
  {
   "cell_type": "markdown",
   "metadata": {},
   "source": [
    "## Construindo Grafo Completo"
   ]
  },
  {
   "cell_type": "code",
   "execution_count": 30,
   "metadata": {
    "collapsed": false
   },
   "outputs": [],
   "source": [
    "domain_matrix = pd.read_csv('/home/elisa/Documents/Projetos/TCC/data/charlie/matrix_domains.csv', index_col=0)"
   ]
  },
  {
   "cell_type": "code",
   "execution_count": 672,
   "metadata": {
    "collapsed": false
   },
   "outputs": [],
   "source": [
    "###CONFERIR!!!!!!!!!!\n",
    "def create_complete_graph(graph,matrix):\n",
    "    G = nx.MultiDiGraph()\n",
    "    G.add_nodes_from(graph.nodes(data=True))\n",
    "    \n",
    "    for i in G.nodes():\n",
    "        temp_list =  G.nodes().copy()\n",
    "        temp_list.remove(i)\n",
    "        i_domains_column = matrix[G.node[i]['domain']]\n",
    "        for j in temp_list:\n",
    "            prob = i_domains_column[G.node[j]['domain']]\n",
    "            G.add_edge(j,i, probability=prob)\n",
    "    return G"
   ]
  },
  {
   "cell_type": "code",
   "execution_count": 37,
   "metadata": {
    "collapsed": false
   },
   "outputs": [],
   "source": [
    "## quero que minha matriz seja Aji, j --> i\n",
    "## matriz foi criada de forma em que as colunas são os influenciadores e as linhas os influenciados!\n",
    "\n",
    "def create_complete_adjacency(graph,matrix):\n",
    "    df = pd.DataFrame(0, index = graph.nodes(), columns = graph.nodes())\n",
    "    for column in graph.nodes():\n",
    "        i_domains_column = matrix[graph.node[column]['domain']]\n",
    "        for row in graph.nodes():\n",
    "            prob = i_domains_column[graph.node[row]['domain']]\n",
    "            df[column][row] = prob\n",
    "            \n",
    "    return df\n",
    "    "
   ]
  },
  {
   "cell_type": "code",
   "execution_count": 38,
   "metadata": {
    "collapsed": false
   },
   "outputs": [],
   "source": [
    "## graph_complete[1][0] -> no 1 ----> no 0"
   ]
  },
  {
   "cell_type": "code",
   "execution_count": null,
   "metadata": {
    "collapsed": false
   },
   "outputs": [],
   "source": []
  },
  {
   "cell_type": "code",
   "execution_count": 39,
   "metadata": {
    "collapsed": false
   },
   "outputs": [],
   "source": [
    "# graph_complete = create_complete_graph(graph, domain_matrix)\n",
    "matrix_complete = create_complete_adjacency(graph, domain_matrix)"
   ]
  },
  {
   "cell_type": "code",
   "execution_count": 40,
   "metadata": {
    "collapsed": false
   },
   "outputs": [
    {
     "data": {
      "text/html": [
       "<div style=\"max-height:1000px;max-width:1500px;overflow:auto;\">\n",
       "<table border=\"1\" class=\"dataframe\">\n",
       "  <thead>\n",
       "    <tr style=\"text-align: right;\">\n",
       "      <th></th>\n",
       "      <th>0</th>\n",
       "      <th>1</th>\n",
       "      <th>2</th>\n",
       "      <th>3</th>\n",
       "      <th>4</th>\n",
       "      <th>5</th>\n",
       "      <th>6</th>\n",
       "      <th>7</th>\n",
       "      <th>8</th>\n",
       "      <th>9</th>\n",
       "      <th>...</th>\n",
       "      <th>2105</th>\n",
       "      <th>2106</th>\n",
       "      <th>2107</th>\n",
       "      <th>2108</th>\n",
       "      <th>2109</th>\n",
       "      <th>2110</th>\n",
       "      <th>2111</th>\n",
       "      <th>2112</th>\n",
       "      <th>2113</th>\n",
       "      <th>2114</th>\n",
       "    </tr>\n",
       "  </thead>\n",
       "  <tbody>\n",
       "    <tr>\n",
       "      <th>0</th>\n",
       "      <td> 5</td>\n",
       "      <td> 0</td>\n",
       "      <td>   1</td>\n",
       "      <td>  0</td>\n",
       "      <td>  0</td>\n",
       "      <td>  0</td>\n",
       "      <td>  0</td>\n",
       "      <td>  0</td>\n",
       "      <td>   1</td>\n",
       "      <td>  0</td>\n",
       "      <td>...</td>\n",
       "      <td>   1</td>\n",
       "      <td>   1</td>\n",
       "      <td> 0</td>\n",
       "      <td> 0</td>\n",
       "      <td>   1</td>\n",
       "      <td>  0</td>\n",
       "      <td> 0</td>\n",
       "      <td> 0</td>\n",
       "      <td> 0</td>\n",
       "      <td> 0</td>\n",
       "    </tr>\n",
       "    <tr>\n",
       "      <th>1</th>\n",
       "      <td> 1</td>\n",
       "      <td> 0</td>\n",
       "      <td>   1</td>\n",
       "      <td>  0</td>\n",
       "      <td>  0</td>\n",
       "      <td>  0</td>\n",
       "      <td>  0</td>\n",
       "      <td>  0</td>\n",
       "      <td>   1</td>\n",
       "      <td>  0</td>\n",
       "      <td>...</td>\n",
       "      <td>   1</td>\n",
       "      <td>   1</td>\n",
       "      <td> 0</td>\n",
       "      <td> 0</td>\n",
       "      <td>   1</td>\n",
       "      <td>  1</td>\n",
       "      <td> 0</td>\n",
       "      <td> 0</td>\n",
       "      <td> 0</td>\n",
       "      <td> 0</td>\n",
       "    </tr>\n",
       "    <tr>\n",
       "      <th>2</th>\n",
       "      <td> 1</td>\n",
       "      <td> 1</td>\n",
       "      <td> 242</td>\n",
       "      <td>  7</td>\n",
       "      <td>  7</td>\n",
       "      <td>  7</td>\n",
       "      <td>  7</td>\n",
       "      <td>  7</td>\n",
       "      <td> 242</td>\n",
       "      <td> 21</td>\n",
       "      <td>...</td>\n",
       "      <td> 242</td>\n",
       "      <td> 242</td>\n",
       "      <td> 0</td>\n",
       "      <td> 0</td>\n",
       "      <td> 242</td>\n",
       "      <td> 76</td>\n",
       "      <td> 8</td>\n",
       "      <td> 8</td>\n",
       "      <td> 0</td>\n",
       "      <td> 8</td>\n",
       "    </tr>\n",
       "    <tr>\n",
       "      <th>3</th>\n",
       "      <td> 0</td>\n",
       "      <td> 2</td>\n",
       "      <td>  11</td>\n",
       "      <td> 12</td>\n",
       "      <td> 12</td>\n",
       "      <td> 12</td>\n",
       "      <td> 12</td>\n",
       "      <td> 12</td>\n",
       "      <td>  11</td>\n",
       "      <td>  2</td>\n",
       "      <td>...</td>\n",
       "      <td>  11</td>\n",
       "      <td>  11</td>\n",
       "      <td> 0</td>\n",
       "      <td> 0</td>\n",
       "      <td>  11</td>\n",
       "      <td>  3</td>\n",
       "      <td> 0</td>\n",
       "      <td> 0</td>\n",
       "      <td> 0</td>\n",
       "      <td> 0</td>\n",
       "    </tr>\n",
       "    <tr>\n",
       "      <th>4</th>\n",
       "      <td> 0</td>\n",
       "      <td> 2</td>\n",
       "      <td>  11</td>\n",
       "      <td> 12</td>\n",
       "      <td> 12</td>\n",
       "      <td> 12</td>\n",
       "      <td> 12</td>\n",
       "      <td> 12</td>\n",
       "      <td>  11</td>\n",
       "      <td>  2</td>\n",
       "      <td>...</td>\n",
       "      <td>  11</td>\n",
       "      <td>  11</td>\n",
       "      <td> 0</td>\n",
       "      <td> 0</td>\n",
       "      <td>  11</td>\n",
       "      <td>  3</td>\n",
       "      <td> 0</td>\n",
       "      <td> 0</td>\n",
       "      <td> 0</td>\n",
       "      <td> 0</td>\n",
       "    </tr>\n",
       "  </tbody>\n",
       "</table>\n",
       "<p>5 rows × 2033 columns</p>\n",
       "</div>"
      ],
      "text/plain": [
       "   0     1     2     3     4     5     6     7     8     9     ...   2105  \\\n",
       "0     5     0     1     0     0     0     0     0     1     0  ...      1   \n",
       "1     1     0     1     0     0     0     0     0     1     0  ...      1   \n",
       "2     1     1   242     7     7     7     7     7   242    21  ...    242   \n",
       "3     0     2    11    12    12    12    12    12    11     2  ...     11   \n",
       "4     0     2    11    12    12    12    12    12    11     2  ...     11   \n",
       "\n",
       "   2106  2107  2108  2109  2110  2111  2112  2113  2114  \n",
       "0     1     0     0     1     0     0     0     0     0  \n",
       "1     1     0     0     1     1     0     0     0     0  \n",
       "2   242     0     0   242    76     8     8     0     8  \n",
       "3    11     0     0    11     3     0     0     0     0  \n",
       "4    11     0     0    11     3     0     0     0     0  \n",
       "\n",
       "[5 rows x 2033 columns]"
      ]
     },
     "execution_count": 40,
     "metadata": {},
     "output_type": "execute_result"
    }
   ],
   "source": [
    "##matrix_complete[0][1] ---- no 0 influenciar o no 1\n",
    "matrix_complete.head()"
   ]
  },
  {
   "cell_type": "code",
   "execution_count": null,
   "metadata": {
    "collapsed": true
   },
   "outputs": [],
   "source": [
    "as_numpy = matrix_complete.as_matrix()"
   ]
  },
  {
   "cell_type": "code",
   "execution_count": null,
   "metadata": {
    "collapsed": false
   },
   "outputs": [],
   "source": [
    "A = graph.nodes()"
   ]
  },
  {
   "cell_type": "code",
   "execution_count": null,
   "metadata": {
    "collapsed": false
   },
   "outputs": [],
   "source": [
    "A"
   ]
  },
  {
   "cell_type": "code",
   "execution_count": 53,
   "metadata": {
    "collapsed": false
   },
   "outputs": [],
   "source": [
    "l_d = []\n",
    "for i in A:\n",
    "    l_d.append(graph.node[i]['domain'])"
   ]
  },
  {
   "cell_type": "code",
   "execution_count": null,
   "metadata": {
    "collapsed": true
   },
   "outputs": [],
   "source": [
    "len(l_d)"
   ]
  },
  {
   "cell_type": "code",
   "execution_count": 741,
   "metadata": {
    "collapsed": false
   },
   "outputs": [],
   "source": [
    "##l_d[0] corresponde ao dominio do artigo na linha 0 da matriz de adjacencia.\n",
    "## ou seja, matrix_complete[0] = ld[0]"
   ]
  },
  {
   "cell_type": "code",
   "execution_count": 52,
   "metadata": {
    "collapsed": false
   },
   "outputs": [],
   "source": [
    "np.savetxt('/home/elisa/Documents/Projetos/TCC/data/charlie/original_graph_nodes.csv', A, delimiter=',')"
   ]
  },
  {
   "cell_type": "code",
   "execution_count": null,
   "metadata": {
    "collapsed": true
   },
   "outputs": [],
   "source": [
    "f=open('/home/elisa/Documents/Projetos/TCC/data/charlie/graph_original_domains_each_node.txt','w')\n",
    "for item in l_d:\n",
    "  f.write(\"%s\\n\" % item)"
   ]
  },
  {
   "cell_type": "code",
   "execution_count": 43,
   "metadata": {
    "collapsed": false
   },
   "outputs": [
    {
     "data": {
      "text/plain": [
       "array([[  5,   0,   1, ...,   0,   0,   0],\n",
       "       [  1,   0,   1, ...,   0,   0,   0],\n",
       "       [  1,   1, 242, ...,   8,   0,   8],\n",
       "       ..., \n",
       "       [  0,   0,  10, ...,   3,   0,   3],\n",
       "       [  0,   0,   1, ...,   0,   0,   0],\n",
       "       [  0,   0,  10, ...,   3,   0,   3]])"
      ]
     },
     "execution_count": 43,
     "metadata": {},
     "output_type": "execute_result"
    }
   ],
   "source": [
    "## prob de 0 ser influenciado por 1\n",
    "as_numpy"
   ]
  },
  {
   "cell_type": "code",
   "execution_count": 44,
   "metadata": {
    "collapsed": true
   },
   "outputs": [],
   "source": [
    "np.fill_diagonal(as_numpy, 0)"
   ]
  },
  {
   "cell_type": "code",
   "execution_count": 45,
   "metadata": {
    "collapsed": true
   },
   "outputs": [],
   "source": [
    "# nx.write_gpickle(graph_complete, 'graph_complete.gpickle')\n",
    "# matrix_complete.to_csv('matrix_complete.csv')\n",
    "np.savetxt('/home/elisa/Documents/Projetos/TCC/data/charlie/graph_complete.csv', as_numpy, delimiter=',')\n"
   ]
  },
  {
   "cell_type": "markdown",
   "metadata": {},
   "source": [
    "## Analise Matriz"
   ]
  },
  {
   "cell_type": "code",
   "execution_count": 652,
   "metadata": {
    "collapsed": false
   },
   "outputs": [],
   "source": [
    "G = G_full.astype(float).as_matrix()"
   ]
  },
  {
   "cell_type": "code",
   "execution_count": 653,
   "metadata": {
    "collapsed": false
   },
   "outputs": [],
   "source": [
    "G = G.T"
   ]
  },
  {
   "cell_type": "code",
   "execution_count": 655,
   "metadata": {
    "collapsed": false
   },
   "outputs": [],
   "source": [
    "np.fill_diagonal(G,0)"
   ]
  },
  {
   "cell_type": "code",
   "execution_count": 649,
   "metadata": {
    "collapsed": false
   },
   "outputs": [],
   "source": [
    "np.savetxt('matrix_complete-full.csv', G, delimiter=',')"
   ]
  },
  {
   "cell_type": "code",
   "execution_count": 545,
   "metadata": {
    "collapsed": false
   },
   "outputs": [],
   "source": [
    "d = []\n",
    "for row in range(0,G.shape[0]):\n",
    "    d.append(np.count_nonzero(G[row,:]))"
   ]
  },
  {
   "cell_type": "code",
   "execution_count": 616,
   "metadata": {
    "collapsed": false
   },
   "outputs": [
    {
     "data": {
      "text/plain": [
       "(array([ 106.,   40.,    4.,   51.,   83.,  131.,  305.,  206.,  451.,  656.]),\n",
       " array([    0. ,   174.7,   349.4,   524.1,   698.8,   873.5,  1048.2,\n",
       "         1222.9,  1397.6,  1572.3,  1747. ]),\n",
       " <a list of 10 Patch objects>)"
      ]
     },
     "execution_count": 616,
     "metadata": {},
     "output_type": "execute_result"
    },
    {
     "data": {
      "image/png": "[encoded data removed]",
      "text/plain": [
       "<matplotlib.figure.Figure at 0x7fe6bef7e588>"
      ]
     },
     "metadata": {},
     "output_type": "display_data"
    }
   ],
   "source": [
    "plt.hist(d)"
   ]
  },
  {
   "cell_type": "code",
   "execution_count": 553,
   "metadata": {
    "collapsed": false
   },
   "outputs": [],
   "source": [
    "G = G/G.sum(0)"
   ]
  },
  {
   "cell_type": "code",
   "execution_count": 578,
   "metadata": {
    "collapsed": false
   },
   "outputs": [
    {
     "data": {
      "text/plain": [
       "array([[  0.,   0.,   1., ...,   0.,   0.,   0.],\n",
       "       [  1.,   0.,   1., ...,   0.,   0.,   0.],\n",
       "       [  1.,   1.,   0., ...,   8.,   0.,   8.],\n",
       "       ..., \n",
       "       [  0.,   0.,  10., ...,   0.,   0.,   3.],\n",
       "       [  0.,   0.,   1., ...,   0.,   0.,   0.],\n",
       "       [  0.,   0.,  10., ...,   3.,   0.,   0.]])"
      ]
     },
     "execution_count": 578,
     "metadata": {},
     "output_type": "execute_result"
    }
   ],
   "source": [
    "G"
   ]
  },
  {
   "cell_type": "code",
   "execution_count": 581,
   "metadata": {
    "collapsed": false
   },
   "outputs": [
    {
     "data": {
      "text/plain": [
       "0.0012722646310432571"
      ]
     },
     "execution_count": 581,
     "metadata": {},
     "output_type": "execute_result"
    }
   ],
   "source": [
    "1/G[0].sum()"
   ]
  },
  {
   "cell_type": "code",
   "execution_count": 584,
   "metadata": {
    "collapsed": false
   },
   "outputs": [],
   "source": [
    "for pos,i in enumerate(G):\n",
    "    G[pos] = G[pos]/G[pos].sum()"
   ]
  },
  {
   "cell_type": "code",
   "execution_count": 587,
   "metadata": {
    "collapsed": false
   },
   "outputs": [
    {
     "data": {
      "text/plain": [
       "array([[  0.00000000e+00,   0.00000000e+00,   1.27226463e-03, ...,\n",
       "          0.00000000e+00,   0.00000000e+00,   0.00000000e+00],\n",
       "       [  1.23152709e-03,   0.00000000e+00,   1.23152709e-03, ...,\n",
       "          0.00000000e+00,   0.00000000e+00,   0.00000000e+00],\n",
       "       [  6.19287077e-06,   6.19287077e-06,   0.00000000e+00, ...,\n",
       "          4.95429661e-05,   0.00000000e+00,   4.95429661e-05],\n",
       "       ..., \n",
       "       [  0.00000000e+00,   0.00000000e+00,   1.54083205e-03, ...,\n",
       "          0.00000000e+00,   0.00000000e+00,   4.62249615e-04],\n",
       "       [  0.00000000e+00,   0.00000000e+00,   1.54559505e-03, ...,\n",
       "          0.00000000e+00,   0.00000000e+00,   0.00000000e+00],\n",
       "       [  0.00000000e+00,   0.00000000e+00,   1.54083205e-03, ...,\n",
       "          4.62249615e-04,   0.00000000e+00,   0.00000000e+00]])"
      ]
     },
     "execution_count": 587,
     "metadata": {},
     "output_type": "execute_result"
    }
   ],
   "source": [
    "G"
   ]
  },
  {
   "cell_type": "markdown",
   "metadata": {},
   "source": [
    "##### In degrees"
   ]
  },
  {
   "cell_type": "code",
   "execution_count": 619,
   "metadata": {
    "collapsed": false
   },
   "outputs": [
    {
     "data": {
      "image/png": "[encoded data removed]",
      "text/plain": [
       "<matplotlib.figure.Figure at 0x7fe6be42e320>"
      ]
     },
     "metadata": {},
     "output_type": "display_data"
    }
   ],
   "source": [
    "for pos in range(0,10):\n",
    "    plt.hold()\n",
    "    plt.hist(G[pos],bins = 20, histtype='stepfilled', alpha=0.2)\n",
    "\n",
    "plt.show()"
   ]
  },
  {
   "cell_type": "markdown",
   "metadata": {},
   "source": [
    " ## Simulações"
   ]
  },
  {
   "cell_type": "code",
   "execution_count": null,
   "metadata": {
    "collapsed": true
   },
   "outputs": [],
   "source": []
  },
  {
   "cell_type": "code",
   "execution_count": 395,
   "metadata": {
    "collapsed": false
   },
   "outputs": [],
   "source": [
    "# M = pd.read_csv('matrix_complete.csv', index_col=0)\n",
    "H = create_subgraph(graph, 0, 400)\n",
    "domain_list, domain_matrix = create_matrix_domain(H)\n",
    "matrix_complete = create_complete_adjacency(H, domain_matrix)"
   ]
  },
  {
   "cell_type": "code",
   "execution_count": 398,
   "metadata": {
    "collapsed": false
   },
   "outputs": [
    {
     "data": {
      "text/plain": [
       "array([[  1.,   1.,   0., ...,   0.,   0.,   0.],\n",
       "       [  0.,   0.,   1., ...,   0.,   1.,   0.],\n",
       "       [  0.,   1.,  69., ...,   0.,  69.,  17.],\n",
       "       ..., \n",
       "       [  0.,   0.,   0., ...,   0.,   0.,   0.],\n",
       "       [  0.,   1.,  69., ...,   0.,  69.,  17.],\n",
       "       [  0.,   0.,   8., ...,   0.,   8.,   9.]])"
      ]
     },
     "execution_count": 398,
     "metadata": {},
     "output_type": "execute_result"
    }
   ],
   "source": [
    "M"
   ]
  },
  {
   "cell_type": "code",
   "execution_count": 394,
   "metadata": {
    "collapsed": false
   },
   "outputs": [
    {
     "data": {
      "text/plain": [
       "array([[  0.,   1.,   0., ...,   0.,   0.,   0.],\n",
       "       [  0.,   0.,   1., ...,   0.,   1.,   0.],\n",
       "       [  0.,   1.,   0., ...,   0.,  69.,  17.],\n",
       "       ..., \n",
       "       [  0.,   0.,   0., ...,   0.,   0.,   0.],\n",
       "       [  0.,   1.,  69., ...,   0.,   0.,  17.],\n",
       "       [  0.,   0.,   8., ...,   0.,   8.,   0.]])"
      ]
     },
     "execution_count": 394,
     "metadata": {},
     "output_type": "execute_result"
    }
   ],
   "source": [
    "M"
   ]
  },
  {
   "cell_type": "code",
   "execution_count": 397,
   "metadata": {
    "collapsed": false
   },
   "outputs": [],
   "source": [
    "M = M.astype(float).as_matrix()"
   ]
  },
  {
   "cell_type": "code",
   "execution_count": 385,
   "metadata": {
    "collapsed": false
   },
   "outputs": [],
   "source": [
    "M /= M.max()"
   ]
  },
  {
   "cell_type": "code",
   "execution_count": 386,
   "metadata": {
    "collapsed": false
   },
   "outputs": [],
   "source": [
    "np.savetxt('matrix_completevs.csv', M, delimiter=',')"
   ]
  },
  {
   "cell_type": "markdown",
   "metadata": {},
   "source": [
    "$$ \\dfrac{d\\rho^{I}_{i}(t)}{dt} = - \\rho^{I}_{i}(t) + \\lambda [1-\\rho^{I}_{i}(t)] \\sum^{N}_{j=i} \\alpha_{ij}\\rho^{I}_{j}(t)$$"
   ]
  }
 ],
 "metadata": {
  "kernelspec": {
   "display_name": "Python 3",
   "language": "python",
   "name": "python3"
  },
  "language_info": {
   "codemirror_mode": {
    "name": "ipython",
    "version": 3
   },
   "file_extension": ".py",
   "mimetype": "text/x-python",
   "name": "python",
   "nbconvert_exporter": "python",
   "pygments_lexer": "ipython3",
   "version": "3.4.0"
  }
 },
 "nbformat": 4,
 "nbformat_minor": 0
}
