{
 "cells": [
  {
   "cell_type": "code",
   "execution_count": 4,
   "metadata": {
    "collapsed": false
   },
   "outputs": [
    {
     "data": {
      "text/html": [
       "\n",
       "    <div class=\"bk-banner\">\n",
       "        <a href=\"http://bokeh.pydata.org\" target=\"_blank\" class=\"bk-logo bk-logo-small bk-logo-notebook\"></a>\n",
       "        <span id=\"dd3ba4ef-89ea-4579-9f80-ea6fcc2b2fb4\">Loading BokehJS ...</span>\n",
       "    </div>"
      ]
     },
     "metadata": {},
     "output_type": "display_data"
    },
    {
     "data": {
      "application/javascript": [
       "\n",
       "(function(global) {\n",
       "  function now() {\n",
       "    return new Date();\n",
       "  }\n",
       "\n",
       "  if (typeof (window._bokeh_onload_callbacks) === \"undefined\") {\n",
       "    window._bokeh_onload_callbacks = [];\n",
       "  }\n",
       "\n",
       "  function run_callbacks() {\n",
       "    window._bokeh_onload_callbacks.forEach(function(callback) { callback() });\n",
       "    delete window._bokeh_onload_callbacks\n",
       "    console.info(\"Bokeh: all callbacks have finished\");\n",
       "  }\n",
       "\n",
       "  function load_libs(js_urls, callback) {\n",
       "    window._bokeh_onload_callbacks.push(callback);\n",
       "    if (window._bokeh_is_loading > 0) {\n",
       "      console.log(\"Bokeh: BokehJS is being loaded, scheduling callback at\", now());\n",
       "      return null;\n",
       "    }\n",
       "    if (js_urls == null || js_urls.length === 0) {\n",
       "      run_callbacks();\n",
       "      return null;\n",
       "    }\n",
       "    console.log(\"Bokeh: BokehJS not loaded, scheduling load and callback at\", now());\n",
       "    window._bokeh_is_loading = js_urls.length;\n",
       "    for (var i = 0; i < js_urls.length; i++) {\n",
       "      var url = js_urls[i];\n",
       "      var s = document.createElement('script');\n",
       "      s.src = url;\n",
       "      s.async = false;\n",
       "      s.onreadystatechange = s.onload = function() {\n",
       "        window._bokeh_is_loading--;\n",
       "        if (window._bokeh_is_loading === 0) {\n",
       "          console.log(\"Bokeh: all BokehJS libraries loaded\");\n",
       "          run_callbacks()\n",
       "        }\n",
       "      };\n",
       "      s.onerror = function() {\n",
       "        console.warn(\"failed to load library \" + url);\n",
       "      };\n",
       "      console.log(\"Bokeh: injecting script tag for BokehJS library: \", url);\n",
       "      document.getElementsByTagName(\"head\")[0].appendChild(s);\n",
       "    }\n",
       "  };\n",
       "\n",
       "  var js_urls = ['https://cdn.pydata.org/bokeh/release/bokeh-0.11.1.min.js', 'https://cdn.pydata.org/bokeh/release/bokeh-widgets-0.11.1.min.js', 'https://cdn.pydata.org/bokeh/release/bokeh-compiler-0.11.1.min.js'];\n",
       "\n",
       "  var inline_js = [\n",
       "    function(Bokeh) {\n",
       "      Bokeh.set_log_level(\"info\");\n",
       "    },\n",
       "    \n",
       "    function(Bokeh) {\n",
       "      Bokeh.$(\"#dd3ba4ef-89ea-4579-9f80-ea6fcc2b2fb4\").text(\"BokehJS successfully loaded\");\n",
       "    },\n",
       "    function(Bokeh) {\n",
       "      console.log(\"Bokeh: injecting CSS: https://cdn.pydata.org/bokeh/release/bokeh-0.11.1.min.css\");\n",
       "      Bokeh.embed.inject_css(\"https://cdn.pydata.org/bokeh/release/bokeh-0.11.1.min.css\");\n",
       "      console.log(\"Bokeh: injecting CSS: https://cdn.pydata.org/bokeh/release/bokeh-widgets-0.11.1.min.css\");\n",
       "      Bokeh.embed.inject_css(\"https://cdn.pydata.org/bokeh/release/bokeh-widgets-0.11.1.min.css\");\n",
       "    }\n",
       "  ];\n",
       "\n",
       "  function run_inline_js() {\n",
       "    for (var i = 0; i < inline_js.length; i++) {\n",
       "      inline_js[i](window.Bokeh);\n",
       "    }\n",
       "  }\n",
       "\n",
       "  if (window._bokeh_is_loading === 0) {\n",
       "    console.log(\"Bokeh: BokehJS loaded, going straight to plotting\");\n",
       "    run_inline_js();\n",
       "  } else {\n",
       "    load_libs(js_urls, function() {\n",
       "      console.log(\"Bokeh: BokehJS plotting callback run at\", now());\n",
       "      run_inline_js();\n",
       "    });\n",
       "  }\n",
       "}(this));"
      ]
     },
     "metadata": {},
     "output_type": "display_data"
    },
    {
     "name": "stdout",
     "output_type": "stream",
     "text": [
      "Populating the interactive namespace from numpy and matplotlib\n"
     ]
    },
    {
     "name": "stderr",
     "output_type": "stream",
     "text": [
      "WARNING: pylab import has clobbered these variables: ['figure', 'split', 'show']\n",
      "`%matplotlib` prevents importing * from pylab and numpy\n"
     ]
    }
   ],
   "source": [
    "import numpy as np\n",
    "import datetime\n",
    "import matplotlib.pyplot as plt\n",
    "from scipy.integrate import odeint\n",
    "from scipy import integrate\n",
    "from scipy.interpolate import interp1d\n",
    "import json\n",
    "from bson import json_util, ObjectId\n",
    "import pandas as pd\n",
    "import nltk\n",
    "from nltk.corpus import stopwords\n",
    "from nltk.stem.rslp import RSLPStemmer\n",
    "from nltk.cluster.util import cosine_distance\n",
    "from re import *\n",
    "from collections import Counter\n",
    "import networkx as nx\n",
    "import cProfile\n",
    "import bokeh\n",
    "from gensim import corpora, models, similarities\n",
    "from string import punctuation\n",
    "from gensim.models.word2vec import Word2Vec\n",
    "from bokeh.plotting import figure, output_notebook, show, vplot\n",
    "from sklearn.cluster import AffinityPropagation, DBSCAN, AgglomerativeClustering, MiniBatchKMeans\n",
    "output_notebook()\n",
    "%pylab inline"
   ]
  },
  {
   "cell_type": "code",
   "execution_count": 5,
   "metadata": {
    "collapsed": false
   },
   "outputs": [],
   "source": [
    "with open('/home/elisa/Projetos/TCC/Mediacloud_data/charliehebdo.json') as f:\n",
    "    a = f.read()\n",
    "    list_of_dict = json_util.loads(a)\n",
    "\n",
    "    "
   ]
  },
  {
   "cell_type": "code",
   "execution_count": 6,
   "metadata": {
    "collapsed": false
   },
   "outputs": [],
   "source": [
    "del_pos = []\n",
    "for pos,i in enumerate(list_of_dict):\n",
    "    if 'published' not in i:\n",
    "        i['published'] = i['updated']\n",
    "    if i['published'].year < 2015:\n",
    "        del_pos.append(i)\n",
    "        "
   ]
  },
  {
   "cell_type": "code",
   "execution_count": 7,
   "metadata": {
    "collapsed": true
   },
   "outputs": [],
   "source": [
    "with open('/home/elisa/Projetos/TCC/Mediacloud_data/charliehebdo.json') as f:\n",
    "    a = f.read()\n",
    "    list_of_dict = json_util.loads(a)\n",
    "    \n",
    "del_pos = []\n",
    "for pos,i in enumerate(list_of_dict):\n",
    "    if 'published' not in i:\n",
    "        i['published'] = i['updated']\n",
    "    if i['published'].year < 2015:\n",
    "        del_pos.append(i)\n",
    "        \n",
    "for i in del_pos:\n",
    "    list_of_dict.remove(i)\n",
    "    \n",
    "from operator import itemgetter\n",
    "data = sorted(list_of_dict, key=itemgetter('published'))\n",
    "del data[0]"
   ]
  },
  {
   "cell_type": "code",
   "execution_count": 8,
   "metadata": {
    "collapsed": true
   },
   "outputs": [],
   "source": [
    "from operator import itemgetter\n",
    "data = sorted(list_of_dict, key=itemgetter('published'))\n",
    "del data[0]"
   ]
  },
  {
   "cell_type": "code",
   "execution_count": 9,
   "metadata": {
    "collapsed": false
   },
   "outputs": [
    {
     "data": {
      "text/plain": [
       "2129"
      ]
     },
     "execution_count": 9,
     "metadata": {},
     "output_type": "execute_result"
    }
   ],
   "source": [
    "len(data)"
   ]
  },
  {
   "cell_type": "code",
   "execution_count": 12,
   "metadata": {
    "collapsed": false
   },
   "outputs": [
    {
     "ename": "FileNotFoundError",
     "evalue": "[Errno 2] No such file or directory: '/home/elisa/Documents/Projetos/TCC/cervero2.json'",
     "output_type": "error",
     "traceback": [
      "\u001b[1;31m---------------------------------------------------------------------------\u001b[0m",
      "\u001b[1;31mFileNotFoundError\u001b[0m                         Traceback (most recent call last)",
      "\u001b[1;32m<ipython-input-12-be42e744648d>\u001b[0m in \u001b[0;36m<module>\u001b[1;34m()\u001b[0m\n\u001b[1;32m----> 1\u001b[1;33m \u001b[1;32mwith\u001b[0m \u001b[0mopen\u001b[0m\u001b[1;33m(\u001b[0m\u001b[1;34m'/home/elisa/Documents/Projetos/TCC/cervero2.json'\u001b[0m\u001b[1;33m)\u001b[0m \u001b[1;32mas\u001b[0m \u001b[0mf\u001b[0m\u001b[1;33m:\u001b[0m\u001b[1;33m\u001b[0m\u001b[0m\n\u001b[0m\u001b[0;32m      2\u001b[0m     \u001b[0ma\u001b[0m \u001b[1;33m=\u001b[0m \u001b[0mf\u001b[0m\u001b[1;33m.\u001b[0m\u001b[0mread\u001b[0m\u001b[1;33m(\u001b[0m\u001b[1;33m)\u001b[0m\u001b[1;33m\u001b[0m\u001b[0m\n\u001b[0;32m      3\u001b[0m     \u001b[0mdata2\u001b[0m \u001b[1;33m=\u001b[0m \u001b[0mjson_util\u001b[0m\u001b[1;33m.\u001b[0m\u001b[0mloads\u001b[0m\u001b[1;33m(\u001b[0m\u001b[0ma\u001b[0m\u001b[1;33m)\u001b[0m\u001b[1;33m\u001b[0m\u001b[0m\n",
      "\u001b[1;31mFileNotFoundError\u001b[0m: [Errno 2] No such file or directory: '/home/elisa/Documents/Projetos/TCC/cervero2.json'"
     ]
    }
   ],
   "source": [
    "with open('/home/elisa/Documents/Projetos/TCC/cervero2.json') as f:\n",
    "    a = f.read()\n",
    "    data2 = json_util.loads(a)"
   ]
  },
  {
   "cell_type": "code",
   "execution_count": null,
   "metadata": {
    "collapsed": true
   },
   "outputs": [],
   "source": [
    "with open('/home/elisa/Documents/Projetos/TCC/role.json') as f:\n",
    "    a = f.read()\n",
    "    data3 = json_util.loads(a)"
   ]
  },
  {
   "cell_type": "code",
   "execution_count": 10,
   "metadata": {
    "collapsed": true
   },
   "outputs": [],
   "source": [
    "def create_time_list(data):\n",
    "    lista = []\n",
    "    for i in data:\n",
    "        if 'published' in i:\n",
    "            lista.append(i['published'])\n",
    "        else:\n",
    "            lista.append(i['updated'])\n",
    "    return lista\n",
    "\n",
    "def period(datetime, hour_period):\n",
    "    dic = {}\n",
    "    quant_period = 24 / hour_period\n",
    "    hours = 0\n",
    "    for i in range(1, int(quant_period + 1)):\n",
    "        count = 0\n",
    "        while count < hour_period:\n",
    "            dic[hours] = i\n",
    "            count += 1\n",
    "            hours += 1\n",
    "    return dic[datetime.hour]\n",
    "\n",
    "\n",
    "def create_count_list(article_list):\n",
    "    count_list = [[datetime.datetime(2013, 2, 2, 0, 0, 0), 0, 1]]\n",
    "    for d in article_list:\n",
    "        article_period = period(d, 2)\n",
    "        for j in count_list:\n",
    "            aux = False\n",
    "            if d.date() == j[0].date():\n",
    "                if article_period == j[2]:\n",
    "                    aux = True\n",
    "                    j[1] += 1\n",
    "                    break\n",
    "        if aux == False:\n",
    "            count_list.append([d, 1, article_period])\n",
    "    count_list.pop(0)\n",
    "    count_list.sort()\n",
    "    return count_list"
   ]
  },
  {
   "cell_type": "code",
   "execution_count": 11,
   "metadata": {
    "collapsed": true
   },
   "outputs": [],
   "source": [
    "def count_datetime(list_datetime):\n",
    "    count_vector = {}\n",
    "    for pos, date1 in enumerate(list_datetime):\n",
    "        model = datetime.datetime(date1.year,date1.month,date1.day,date1.hour)\n",
    "        if model not in count_vector:\n",
    "            count = 0\n",
    "            for date2 in list_datetime[pos:]:\n",
    "                if date1.date() == date2.date():\n",
    "                    if date1.hour == date2.hour:\n",
    "                        count+=1\n",
    "            count_vector[model] = count\n",
    "    return count_vector"
   ]
  },
  {
   "cell_type": "code",
   "execution_count": 12,
   "metadata": {
    "collapsed": false
   },
   "outputs": [],
   "source": [
    "time_list = create_time_list(data)"
   ]
  },
  {
   "cell_type": "code",
   "execution_count": 13,
   "metadata": {
    "collapsed": false
   },
   "outputs": [],
   "source": [
    "c = count_datetime(time_list)"
   ]
  },
  {
   "cell_type": "code",
   "execution_count": 14,
   "metadata": {
    "collapsed": false
   },
   "outputs": [],
   "source": [
    "x_list = []\n",
    "y_list = []\n",
    "for i in c:\n",
    "    x_list.append(i)\n",
    "    y_list.append(c[i])"
   ]
  },
  {
   "cell_type": "code",
   "execution_count": 15,
   "metadata": {
    "collapsed": false
   },
   "outputs": [
    {
     "data": {
      "image/png": "[encoded data removed]",
      "text/plain": [
       "<matplotlib.figure.Figure at 0x7f71f3e66860>"
      ]
     },
     "metadata": {},
     "output_type": "display_data"
    }
   ],
   "source": [
    "hour_list = []\n",
    "for i in time_list:\n",
    "    hour_list.append(i.hour)\n",
    "    \n",
    "plt.hist(hour_list, bins=24)\n",
    "plt.title('Artigos por Hora')\n",
    "plt.xlabel('')\n",
    "plt.ylabel('Proportion')\n",
    "plt.savefig('2.1-SIR.png', dpi=900)\n",
    "plt.show()"
   ]
  },
  {
   "cell_type": "code",
   "execution_count": 16,
   "metadata": {
    "collapsed": false
   },
   "outputs": [],
   "source": [
    "time_list.sort()"
   ]
  },
  {
   "cell_type": "code",
   "execution_count": 17,
   "metadata": {
    "collapsed": true
   },
   "outputs": [],
   "source": [
    "list_dates = []\n",
    "for i in time_list:\n",
    "    list_dates.append(i.date())\n",
    "    "
   ]
  },
  {
   "cell_type": "code",
   "execution_count": 18,
   "metadata": {
    "collapsed": false
   },
   "outputs": [],
   "source": [
    "list_dates = list_dates[6:]"
   ]
  },
  {
   "cell_type": "code",
   "execution_count": 32,
   "metadata": {
    "collapsed": false
   },
   "outputs": [],
   "source": [
    "O = nx.read_gpickle('/home/elisa/Projetos/TCC/charlie_results/original_graph.gpickle')\n",
    "nodes = np.loadtxt(open('/home/elisa/Projetos/TCC/charlie_results/original_graph_nodes.csv'), delimiter=\",\")\n",
    "with open('/home/elisa/Projetos/TCC/charlie_results/graph_original_domains_each_node.txt') as f:\n",
    "    domains = f.read().splitlines()"
   ]
  },
  {
   "cell_type": "code",
   "execution_count": 33,
   "metadata": {
    "collapsed": true
   },
   "outputs": [],
   "source": [
    "fs = []\n",
    "for node in O.nodes():\n",
    "    if O.node[node]['date'].date() == datetime.date(2015, 1, 7):\n",
    "        fs.append([O.node[node]['domain'] ])"
   ]
  },
  {
   "cell_type": "code",
   "execution_count": 34,
   "metadata": {
    "collapsed": false
   },
   "outputs": [
    {
     "data": {
      "text/plain": [
       "[['www.ptjornal.com'],\n",
       " ['www.meioemensagem.com.br'],\n",
       " ['br.noticias.yahoo.com'],\n",
       " ['estadao.feedsportal.com'],\n",
       " ['estadao.feedsportal.com'],\n",
       " ['estadao.feedsportal.com'],\n",
       " ['estadao.feedsportal.com'],\n",
       " ['estadao.feedsportal.com'],\n",
       " ['br.noticias.yahoo.com'],\n",
       " ['www.dgabc.com.br'],\n",
       " ['www.jb.com.br'],\n",
       " ['opiniaoenoticiascombr.feedsportal.com'],\n",
       " ['feeds.jn.pt'],\n",
       " ['www.gazetadopovo.com.br'],\n",
       " ['br.noticias.yahoo.com'],\n",
       " ['feeds.jn.pt'],\n",
       " ['feeds.jn.pt'],\n",
       " ['g1.globo.com'],\n",
       " ['www.brasilimprensalivre.com.br'],\n",
       " ['estadao.feedsportal.com'],\n",
       " ['g1.globo.com'],\n",
       " ['www.jb.com.br'],\n",
       " ['feeds.jn.pt'],\n",
       " ['www.jb.com.br'],\n",
       " ['www.jb.com.br'],\n",
       " ['estadao.feedsportal.com'],\n",
       " ['br.noticias.yahoo.com'],\n",
       " ['aquiacontece.com.br'],\n",
       " ['feeds.jn.pt'],\n",
       " ['www.ptjornal.com'],\n",
       " ['estadao.feedsportal.com'],\n",
       " ['www.gazetadopovo.com.br'],\n",
       " ['g1.globo.com'],\n",
       " ['g1.globo.com'],\n",
       " ['www.ocafezinho.com'],\n",
       " ['feeds.jn.pt'],\n",
       " ['feedproxy.google.com'],\n",
       " ['www.gazetadopovo.com.br'],\n",
       " ['estadao.feedsportal.com'],\n",
       " ['www.gazetadopovo.com.br'],\n",
       " ['www.gazetadopovo.com.br'],\n",
       " ['estadao.feedsportal.com'],\n",
       " ['feeds.jn.pt'],\n",
       " ['feeds.jn.pt'],\n",
       " ['www.gazetadopovo.com.br'],\n",
       " ['www.jb.com.br'],\n",
       " ['feeds.jn.pt'],\n",
       " ['www.jb.com.br'],\n",
       " ['www.jb.com.br'],\n",
       " ['br.noticias.yahoo.com'],\n",
       " ['br.noticias.yahoo.com'],\n",
       " ['www.jb.com.br'],\n",
       " ['www.jb.com.br'],\n",
       " ['g1.globo.com'],\n",
       " ['br.noticias.yahoo.com'],\n",
       " ['redir.folha.com.br'],\n",
       " ['www.gazetadopovo.com.br'],\n",
       " ['br.noticias.yahoo.com'],\n",
       " ['br.noticias.yahoo.com'],\n",
       " ['br.noticias.yahoo.com'],\n",
       " ['www.jb.com.br'],\n",
       " ['www.jb.com.br'],\n",
       " ['br.noticias.yahoo.com'],\n",
       " ['br.noticias.yahoo.com'],\n",
       " ['br.noticias.yahoo.com'],\n",
       " ['br.noticias.yahoo.com'],\n",
       " ['br.noticias.yahoo.com'],\n",
       " ['opiniaoenoticiascombr.feedsportal.com'],\n",
       " ['www.jb.com.br'],\n",
       " ['br.noticias.yahoo.com'],\n",
       " ['br.noticias.yahoo.com'],\n",
       " ['www.jb.com.br'],\n",
       " ['br.noticias.yahoo.com'],\n",
       " ['www.jb.com.br'],\n",
       " ['g1.globo.com'],\n",
       " ['br.noticias.yahoo.com'],\n",
       " ['br.noticias.yahoo.com'],\n",
       " ['br.noticias.yahoo.com'],\n",
       " ['br.noticias.yahoo.com'],\n",
       " ['www.jb.com.br'],\n",
       " ['br.noticias.yahoo.com'],\n",
       " ['www.metro1.com.br'],\n",
       " ['www.metro1.com.br'],\n",
       " ['www.metro1.com.br'],\n",
       " ['www.metro1.com.br'],\n",
       " ['www.metro1.com.br'],\n",
       " ['www.metro1.com.br'],\n",
       " ['br.noticias.yahoo.com'],\n",
       " ['br.noticias.yahoo.com'],\n",
       " ['br.noticias.yahoo.com'],\n",
       " ['jornalggn.com.br'],\n",
       " ['br.noticias.yahoo.com'],\n",
       " ['agenciapulsar.org'],\n",
       " ['br.noticias.yahoo.com'],\n",
       " ['br.noticias.yahoo.com'],\n",
       " ['br.noticias.yahoo.com'],\n",
       " ['www.jb.com.br'],\n",
       " ['br.noticias.yahoo.com'],\n",
       " ['br.noticias.yahoo.com'],\n",
       " ['br.noticias.yahoo.com'],\n",
       " ['br.noticias.yahoo.com'],\n",
       " ['www.otempo.com.br'],\n",
       " ['br.noticias.yahoo.com'],\n",
       " ['www.metro1.com.br'],\n",
       " ['www.fabiocampana.com.br'],\n",
       " ['br.noticias.yahoo.com'],\n",
       " ['br.noticias.yahoo.com'],\n",
       " ['br.noticias.yahoo.com'],\n",
       " ['br.noticias.yahoo.com'],\n",
       " ['www.jb.com.br'],\n",
       " ['www.jb.com.br'],\n",
       " ['br.noticias.yahoo.com'],\n",
       " ['www.mdig.com.br'],\n",
       " ['br.noticias.yahoo.com'],\n",
       " ['www.metro1.com.br'],\n",
       " ['www.metro1.com.br'],\n",
       " ['br.noticias.yahoo.com'],\n",
       " ['br.noticias.yahoo.com'],\n",
       " ['g1.globo.com'],\n",
       " ['br.noticias.yahoo.com'],\n",
       " ['br.noticias.yahoo.com'],\n",
       " ['br.noticias.yahoo.com'],\n",
       " ['br.noticias.yahoo.com'],\n",
       " ['www.jb.com.br'],\n",
       " ['br.noticias.yahoo.com'],\n",
       " ['br.noticias.yahoo.com'],\n",
       " ['br.noticias.yahoo.com'],\n",
       " ['br.noticias.yahoo.com'],\n",
       " ['blog.opovo.com.br'],\n",
       " ['br.noticias.yahoo.com'],\n",
       " ['br.noticias.yahoo.com'],\n",
       " ['br.noticias.yahoo.com'],\n",
       " ['br.noticias.yahoo.com'],\n",
       " ['aquiacontece.com.br'],\n",
       " ['www.cartacapital.com.br'],\n",
       " ['espn.uol.com.br'],\n",
       " ['br.noticias.yahoo.com'],\n",
       " ['br.noticias.yahoo.com']]"
      ]
     },
     "execution_count": 34,
     "metadata": {},
     "output_type": "execute_result"
    }
   ],
   "source": [
    "fs"
   ]
  },
  {
   "cell_type": "code",
   "execution_count": 27,
   "metadata": {
    "collapsed": false
   },
   "outputs": [],
   "source": [
    "counter = dict(Counter(list_dates))"
   ]
  },
  {
   "cell_type": "code",
   "execution_count": 28,
   "metadata": {
    "collapsed": false
   },
   "outputs": [
    {
     "data": {
      "text/plain": [
       "{datetime.date(2015, 1, 7): 164,\n",
       " datetime.date(2015, 1, 8): 202,\n",
       " datetime.date(2015, 1, 9): 343,\n",
       " datetime.date(2015, 1, 10): 153,\n",
       " datetime.date(2015, 1, 11): 139,\n",
       " datetime.date(2015, 1, 12): 154,\n",
       " datetime.date(2015, 1, 13): 100,\n",
       " datetime.date(2015, 1, 14): 117,\n",
       " datetime.date(2015, 1, 15): 121,\n",
       " datetime.date(2015, 1, 16): 73,\n",
       " datetime.date(2015, 1, 17): 103,\n",
       " datetime.date(2015, 1, 18): 57,\n",
       " datetime.date(2015, 1, 19): 71,\n",
       " datetime.date(2015, 1, 20): 40,\n",
       " datetime.date(2015, 1, 21): 29,\n",
       " datetime.date(2015, 1, 22): 23,\n",
       " datetime.date(2015, 1, 23): 29,\n",
       " datetime.date(2015, 1, 24): 6,\n",
       " datetime.date(2015, 1, 25): 5,\n",
       " datetime.date(2015, 1, 26): 37,\n",
       " datetime.date(2015, 1, 27): 14,\n",
       " datetime.date(2015, 1, 28): 3,\n",
       " datetime.date(2015, 1, 29): 5,\n",
       " datetime.date(2015, 1, 30): 3,\n",
       " datetime.date(2015, 1, 31): 3,\n",
       " datetime.date(2015, 2, 1): 2,\n",
       " datetime.date(2015, 2, 2): 6,\n",
       " datetime.date(2015, 2, 3): 4,\n",
       " datetime.date(2015, 2, 4): 1,\n",
       " datetime.date(2015, 2, 5): 7,\n",
       " datetime.date(2015, 2, 6): 1,\n",
       " datetime.date(2015, 2, 7): 1,\n",
       " datetime.date(2015, 2, 8): 2,\n",
       " datetime.date(2015, 2, 9): 1,\n",
       " datetime.date(2015, 2, 10): 7,\n",
       " datetime.date(2015, 2, 12): 7,\n",
       " datetime.date(2015, 2, 14): 8,\n",
       " datetime.date(2015, 2, 15): 5,\n",
       " datetime.date(2015, 2, 16): 8,\n",
       " datetime.date(2015, 2, 17): 7,\n",
       " datetime.date(2015, 2, 18): 2,\n",
       " datetime.date(2015, 2, 19): 2,\n",
       " datetime.date(2015, 2, 20): 1,\n",
       " datetime.date(2015, 2, 23): 2,\n",
       " datetime.date(2015, 2, 24): 5,\n",
       " datetime.date(2015, 2, 25): 8,\n",
       " datetime.date(2015, 3, 3): 1,\n",
       " datetime.date(2015, 3, 4): 1,\n",
       " datetime.date(2015, 3, 6): 1,\n",
       " datetime.date(2015, 3, 7): 1,\n",
       " datetime.date(2015, 3, 8): 6,\n",
       " datetime.date(2015, 3, 9): 8,\n",
       " datetime.date(2015, 3, 10): 2,\n",
       " datetime.date(2015, 3, 13): 2,\n",
       " datetime.date(2015, 3, 14): 1,\n",
       " datetime.date(2015, 3, 15): 1,\n",
       " datetime.date(2015, 3, 18): 1,\n",
       " datetime.date(2015, 4, 8): 1,\n",
       " datetime.date(2015, 4, 27): 2,\n",
       " datetime.date(2015, 4, 29): 1,\n",
       " datetime.date(2015, 4, 30): 2,\n",
       " datetime.date(2015, 5, 7): 1,\n",
       " datetime.date(2015, 5, 18): 3,\n",
       " datetime.date(2015, 5, 19): 3,\n",
       " datetime.date(2015, 5, 21): 1,\n",
       " datetime.date(2015, 5, 22): 2,\n",
       " datetime.date(2015, 5, 26): 1}"
      ]
     },
     "execution_count": 28,
     "metadata": {},
     "output_type": "execute_result"
    }
   ],
   "source": [
    "counter"
   ]
  },
  {
   "cell_type": "code",
   "execution_count": 21,
   "metadata": {
    "collapsed": false
   },
   "outputs": [],
   "source": [
    "rng = pd.date_range('1/6/2015', '3/26/2015')"
   ]
  },
  {
   "cell_type": "code",
   "execution_count": 22,
   "metadata": {
    "collapsed": false
   },
   "outputs": [],
   "source": [
    "y = []\n",
    "for i in rng:\n",
    "    d = i.date()\n",
    "    if d in counter:\n",
    "        y.append(counter[d])\n",
    "    else:\n",
    "        y.append(0)"
   ]
  },
  {
   "cell_type": "code",
   "execution_count": null,
   "metadata": {
    "collapsed": false
   },
   "outputs": [],
   "source": []
  },
  {
   "cell_type": "code",
   "execution_count": 23,
   "metadata": {
    "collapsed": false
   },
   "outputs": [
    {
     "data": {
      "image/png": "[encoded data removed]",
      "text/plain": [
       "<matplotlib.figure.Figure at 0x7f71f3b574a8>"
      ]
     },
     "metadata": {},
     "output_type": "display_data"
    }
   ],
   "source": [
    "ts = pd.Series(y, rng)\n",
    "ts.cumsum()\n",
    "ts.plot(title='Número de Notícias por Dia' )\n",
    "plt.savefig('grafic.png')"
   ]
  },
  {
   "cell_type": "code",
   "execution_count": null,
   "metadata": {
    "collapsed": true
   },
   "outputs": [],
   "source": []
  },
  {
   "cell_type": "code",
   "execution_count": null,
   "metadata": {
    "collapsed": true
   },
   "outputs": [],
   "source": []
  },
  {
   "cell_type": "code",
   "execution_count": null,
   "metadata": {
    "collapsed": true
   },
   "outputs": [],
   "source": []
  },
  {
   "cell_type": "code",
   "execution_count": null,
   "metadata": {
    "collapsed": true
   },
   "outputs": [],
   "source": []
  },
  {
   "cell_type": "code",
   "execution_count": null,
   "metadata": {
    "collapsed": true
   },
   "outputs": [],
   "source": []
  },
  {
   "cell_type": "code",
   "execution_count": null,
   "metadata": {
    "collapsed": true
   },
   "outputs": [],
   "source": []
  },
  {
   "cell_type": "code",
   "execution_count": 273,
   "metadata": {
    "collapsed": false
   },
   "outputs": [],
   "source": [
    "ts = pd.Series(y, rng)"
   ]
  },
  {
   "cell_type": "code",
   "execution_count": 274,
   "metadata": {
    "collapsed": false
   },
   "outputs": [
    {
     "data": {
      "text/plain": [
       "<matplotlib.axes.AxesSubplot at 0x7fbd08eaf6a0>"
      ]
     },
     "execution_count": 274,
     "metadata": {},
     "output_type": "execute_result"
    },
    {
     "data": {
      "image/png": "[encoded data removed]",
      "text/plain": [
       "<matplotlib.figure.Figure at 0x7fbd08eb8630>"
      ]
     },
     "metadata": {},
     "output_type": "display_data"
    }
   ],
   "source": [
    "ts.cumsum()\n",
    "ts.plot()\n"
   ]
  },
  {
   "cell_type": "code",
   "execution_count": 231,
   "metadata": {
    "collapsed": false
   },
   "outputs": [],
   "source": [
    "y_lista = y\n",
    "x_lista = [i.date() for i in rng]"
   ]
  },
  {
   "cell_type": "code",
   "execution_count": null,
   "metadata": {
    "collapsed": false
   },
   "outputs": [],
   "source": []
  },
  {
   "cell_type": "code",
   "execution_count": null,
   "metadata": {
    "collapsed": false,
    "scrolled": false
   },
   "outputs": [],
   "source": []
  },
  {
   "cell_type": "code",
   "execution_count": null,
   "metadata": {
    "collapsed": false
   },
   "outputs": [],
   "source": []
  },
  {
   "cell_type": "code",
   "execution_count": 51,
   "metadata": {
    "collapsed": false
   },
   "outputs": [],
   "source": [
    "# TOOLS = \"pan,wheel_zoom,box_zoom,reset,save\"\n",
    "# r = bokeh.plotting.figure(x_axis_type=\"datetime\", tools=TOOLS)\n",
    "\n",
    "# r.line(x_list, y_list, color='#1F78B4', legend='ACME')\n",
    "# bokeh.plotting.show(r)"
   ]
  },
  {
   "cell_type": "code",
   "execution_count": null,
   "metadata": {
    "collapsed": true
   },
   "outputs": [],
   "source": []
  },
  {
   "cell_type": "code",
   "execution_count": 233,
   "metadata": {
    "collapsed": true
   },
   "outputs": [],
   "source": [
    "# time_list1 = []\n",
    "# time_list2 = []\n",
    "# for i in time_list:\n",
    "#     if i.hour < 8:\n",
    "#         time_list1.append(i)\n",
    "#     else:\n",
    "#         time_list2.append(i)"
   ]
  },
  {
   "cell_type": "code",
   "execution_count": 234,
   "metadata": {
    "collapsed": true
   },
   "outputs": [],
   "source": [
    "# count_list = create_count_list(time_list2)"
   ]
  },
  {
   "cell_type": "code",
   "execution_count": null,
   "metadata": {
    "collapsed": false
   },
   "outputs": [],
   "source": []
  },
  {
   "cell_type": "code",
   "execution_count": 245,
   "metadata": {
    "collapsed": false
   },
   "outputs": [
    {
     "data": {
      "image/png": "[encoded data removed]",
      "text/plain": [
       "<matplotlib.figure.Figure at 0x7fbd08e40c18>"
      ]
     },
     "metadata": {},
     "output_type": "display_data"
    }
   ],
   "source": [
    "x_lista = []\n",
    "y_lista = []\n",
    "for pos, i in enumerate(count_list):\n",
    "    x_lista.append(pos + 1)\n",
    "    y_lista.append(i[1])\n",
    "\n",
    "plt.plot(x_lista, y_lista)\n",
    "plt.title('Quantidade de notícias por período')\n",
    "plt.xlabel('Período')\n",
    "plt.ylabel('Número de artigos')\n",
    "plt.savefig('charlie.png', dpi=900)"
   ]
  },
  {
   "cell_type": "code",
   "execution_count": 253,
   "metadata": {
    "collapsed": false
   },
   "outputs": [],
   "source": [
    "y_lista = np.array(y_lista).astype('float')\n",
    "y_lista /= max(y_lista)\n",
    "\n",
    "r_t = [y_lista[pos]/y_lista[pos-1] for pos, i in enumerate(y_lista) if pos > 0]\n",
    "r_t.insert(0, 1)\n",
    "\n",
    "Rt = interp1d(x_lista, r_t, fill_value=0, bounds_error=False)"
   ]
  },
  {
   "cell_type": "markdown",
   "metadata": {},
   "source": [
    "#Modelo SIR"
   ]
  },
  {
   "cell_type": "code",
   "execution_count": 254,
   "metadata": {
    "collapsed": true
   },
   "outputs": [],
   "source": [
    "# parameters\n",
    "gamma = 0.8  # recovery rate  0.7\n",
    "mu = 0.1  # 0.1\n",
    "#beta = 3\n",
    "\n",
    "rates = (gamma, mu)\n",
    "\n",
    "# initial conditions\n",
    "S0 = 1-y_lista[0]  # initial susceptibles population\n",
    "I0 = y_lista[0]  # initial infected population\n",
    "R0 = 0.00  # initial recovered population\n",
    "\n",
    "y0 = [S0, I0, R0]"
   ]
  },
  {
   "cell_type": "code",
   "execution_count": 255,
   "metadata": {
    "collapsed": false
   },
   "outputs": [],
   "source": [
    "# differential-eq-system----------------------\n",
    "def funct(y, t, gamma, mu):  #beta_t)\n",
    "    S = y[0]\n",
    "    I = y[1]\n",
    "    R = y[2]\n",
    "\n",
    "    # N = S + I + R\n",
    "\n",
    "    beta_t = Rt(t)*gamma\n",
    "\n",
    "    # the model equations\n",
    "    dS = mu - beta_t * S * I - mu * S\n",
    "    dI = beta_t * S * I - (gamma + mu) * I\n",
    "    dR = gamma * I - mu * R\n",
    "    return [dS, dI, dR]\n",
    "\n",
    "\n",
    "def eq(par, initial_cond, start_t, end_t, incr):\n",
    "    # -time-grid-----------------------------------\n",
    "    t = np.linspace(start_t, end_t, incr)\n",
    "\n",
    "    # integrate------------------------------------\n",
    "    ds = integrate.odeint(funct, initial_cond, t, par)\n",
    "    return ds[:, 0], ds[:, 1], ds[:, 2], t\n",
    "\n",
    "S, I, R, T = eq(rates, y0, 1, 300, 1000)\n",
    "N = 1"
   ]
  },
  {
   "cell_type": "code",
   "execution_count": 256,
   "metadata": {
    "collapsed": false
   },
   "outputs": [
    {
     "data": {
      "image/png": "[encoded data removed]",
      "text/plain": [
       "<matplotlib.figure.Figure at 0x7fbd08f39b70>"
      ]
     },
     "metadata": {},
     "output_type": "display_data"
    }
   ],
   "source": [
    "plt.figure()\n",
    "\n",
    "# plt.plot(T, S/N, '-b', T, I/N, '-r', T, R/N, '-y')\n",
    "# plt.legend((\"Susceptible\", \"Infected\", \"Recovered\"),'upper right')\n",
    "\n",
    "plt.plot(T, I, label='Infected')\n",
    "# plt.plot(T, S, label='Susceptible')\n",
    "# plt.plot(T, R, label='Recovered')\n",
    "\n",
    "plt.plot(x_lista, y_lista, 'y', label='Data')\n",
    "# plt.plot(x_lista, Rt(x_lista)*gamma, '-g', label='beta_t')\n",
    "plt.legend()\n",
    "\n",
    "plt.title('SIR Model')\n",
    "plt.xlabel('Time')\n",
    "plt.ylabel('Proportion')\n",
    "plt.savefig('2.1-SIR.png', dpi=900)\n",
    "#print Rt(np.linspace(0,100,100))\n",
    "plt.show()"
   ]
  },
  {
   "cell_type": "code",
   "execution_count": null,
   "metadata": {
    "collapsed": true
   },
   "outputs": [],
   "source": []
  },
  {
   "cell_type": "code",
   "execution_count": null,
   "metadata": {
    "collapsed": true
   },
   "outputs": [],
   "source": []
  }
 ],
 "metadata": {
  "kernelspec": {
   "display_name": "Python 3",
   "language": "python",
   "name": "python3"
  },
  "language_info": {
   "codemirror_mode": {
    "name": "ipython",
    "version": 3
   },
   "file_extension": ".py",
   "mimetype": "text/x-python",
   "name": "python",
   "nbconvert_exporter": "python",
   "pygments_lexer": "ipython3",
   "version": "3.5.1"
  }
 },
 "nbformat": 4,
 "nbformat_minor": 0
}
